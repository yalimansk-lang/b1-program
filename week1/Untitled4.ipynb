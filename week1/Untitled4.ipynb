{
 "cells": [
  {
   "cell_type": "code",
   "execution_count": 1,
   "id": "4f618bc9-7c7e-4617-b691-b06bac7ca4ad",
   "metadata": {},
   "outputs": [
    {
     "ename": "_IncompleteInputError",
     "evalue": "incomplete input (3597368738.py, line 1)",
     "output_type": "error",
     "traceback": [
      "  \u001b[36mCell\u001b[39m\u001b[36m \u001b[39m\u001b[32mIn[1]\u001b[39m\u001b[32m, line 1\u001b[39m\n\u001b[31m    \u001b[39m\u001b[31m'''Business Profit CalculatorCalculates profit and margin percentagefrom revenue and cost data’’’\u001b[39m\n    ^\n\u001b[31m_IncompleteInputError\u001b[39m\u001b[31m:\u001b[39m incomplete input\n"
     ]
    }
   ],
   "source": [
    "'''Business Profit CalculatorCalculates profit and margin percentagefrom revenue and cost data’’’\n",
    "\n",
    "# Get revenue from user\n",
    "\n",
    "revenue = float(input(\"Enter total revenue: $\"))\n",
    "# Get costs from user  \n",
    "\n",
    "costs = float(input(\"Enter total costs: $\"))\n",
    "\n",
    "# Calculate profit\n",
    "\n",
    "profit = revenue – costs\n",
    "\n",
    "# Calculate profit margin percentage\n",
    "\n",
    "margin = (profit / revenue) * 100\n",
    "\n",
    "# Display results\n",
    "\n",
    "print(\"/n--- Financial Summary ---\")\n",
    "print(f\"Revenue: ${revenue:,.2f}\")\n",
    "print(f\"Costs: ${costs:,.2f}\")\n",
    "print(f\"Profit: ${profit:,.2f}\")\n",
    "print(f\"Profit Margin: {margin:.1f}%\")"
   ]
  },
  {
   "cell_type": "code",
   "execution_count": null,
   "id": "a2a97bfe-1ec6-4a65-b784-111361f0c677",
   "metadata": {},
   "outputs": [],
   "source": []
  }
 ],
 "metadata": {
  "kernelspec": {
   "display_name": "Python 3 (ipykernel)",
   "language": "python",
   "name": "python3"
  },
  "language_info": {
   "codemirror_mode": {
    "name": "ipython",
    "version": 3
   },
   "file_extension": ".py",
   "mimetype": "text/x-python",
   "name": "python",
   "nbconvert_exporter": "python",
   "pygments_lexer": "ipython3",
   "version": "3.14.0"
  }
 },
 "nbformat": 4,
 "nbformat_minor": 5
}
